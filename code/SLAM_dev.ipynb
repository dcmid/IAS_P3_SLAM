{
 "metadata": {
  "language_info": {
   "codemirror_mode": {
    "name": "ipython",
    "version": 3
   },
   "file_extension": ".py",
   "mimetype": "text/x-python",
   "name": "python",
   "nbconvert_exporter": "python",
   "pygments_lexer": "ipython3",
   "version": "3.7.6-final"
  },
  "orig_nbformat": 2,
  "kernelspec": {
   "name": "python3",
   "display_name": "Python 3.7.6 64-bit (conda)",
   "metadata": {
    "interpreter": {
     "hash": "14e8a30fe7d1f8eb3ea56e6d13e3789d1eba5d72906091ff4aff2300b33fa113"
    }
   }
  }
 },
 "nbformat": 4,
 "nbformat_minor": 2,
 "cells": [
  {
   "cell_type": "code",
   "execution_count": 12,
   "metadata": {},
   "outputs": [],
   "source": [
    "import load_data\n",
    "import matplotlib.pyplot as plt\n",
    "import numpy as np"
   ]
  },
  {
   "source": [
    "## Odometry Dead Reconing"
   ],
   "cell_type": "markdown",
   "metadata": {}
  },
  {
   "cell_type": "code",
   "execution_count": 46,
   "metadata": {},
   "outputs": [],
   "source": [
    "WHEEL_DIAM = 254    # wheel diameter (mm)\n",
    "BOT_WIDTH = 393.7   # distance from center of left wheel to center of right (mm)\n",
    "\n",
    "WHEEL_CIRC = np.pi*WHEEL_DIAM    # wheel circumference (mm)\n",
    "ENC_TICK_LEN = WHEEL_CIRC / 360  # length of one encoder tick (mm)"
   ]
  },
  {
   "cell_type": "code",
   "execution_count": 8,
   "metadata": {},
   "outputs": [],
   "source": [
    "# Front Right, Front Left,... encoder readings, time\n",
    "FR_enc, FL_enc, RR_enc, RL_enc, ts = load_data.get_encoder('../data/Encoders20')"
   ]
  },
  {
   "cell_type": "code",
   "execution_count": 23,
   "metadata": {},
   "outputs": [],
   "source": [
    "R_enc = (FR_enc + RR_enc) / 2  #average value of right encoders\r\n",
    "L_enc = (FL_enc + RL_enc) / 2  #average value of left encoders"
   ]
  },
  {
   "cell_type": "code",
   "execution_count": 47,
   "metadata": {},
   "outputs": [],
   "source": [
    "def get_local_movement(R_enc, L_enc):  # get movement and angular change with bot frame of reference\n",
    "    R_mm = ENC_TICK_LEN * R_enc  # convert encoder to right wheel movement in mm\n",
    "    L_mm = ENC_TICK_LEN * L_enc  # convert encoder to left wheel movement in mm\n",
    "    d_theta = (R_mm - L_mm) / BOT_WIDTH  # find change in angle\n",
    "    d_i = (R_mm + L_mm) / 2 * np.cos(d_theta)  # motion in i direction\n",
    "    d_j = (R_mm + L_mm) / 2 * np.sin(d_theta)  # motion in j direction\n",
    "    return [d_i, d_j, d_theta]"
   ]
  },
  {
   "cell_type": "code",
   "execution_count": 45,
   "metadata": {},
   "outputs": [
    {
     "output_type": "execute_result",
     "data": {
      "text/plain": [
       "(4957, 2)"
      ]
     },
     "metadata": {},
     "execution_count": 45
    }
   ],
   "source": [
    "pos = np.zeros((len(FR_enc)+1,2))    # 2D position; assume initial position is (0,0)\n",
    "angle = np.zeros((len(FR_enc)+1,2))  # orientation; assume initial orientation is 0deg\n",
    "\n",
    "for i in range(len(FR_enc)):\n",
    "    d_i, d_j, d_angle = get_local_movement(R_enc[i],L_enc[i])  # local movement\n",
    "    d_x = (d_i * np.cos(angle[i])) + (d_j * np.sin(angle[i]))  # global x movement\n",
    "    d_y = (d_i * np.sin(angle[i])) + (d_j * np.cos(angle[i]))  # global y movement\n",
    "    \n",
    "    angle[i+1] = angle[i] + d_angle  # update next angle using calculated change\n",
    "    pos[i+1,0] = pos[i,0] + d_x  # update next x position using calculated change\n",
    "    pos[i+1,1] = pos[i,1] + d_y  # update next y position using calculated change"
   ]
  }
 ]
}